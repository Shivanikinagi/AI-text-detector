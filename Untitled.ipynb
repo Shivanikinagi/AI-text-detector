{
 "cells": [
  {
   "cell_type": "code",
   "execution_count": 4,
   "id": "2273a73f-2064-479d-ae1f-4f1df5a427d5",
   "metadata": {},
   "outputs": [],
   "source": [
    "import pandas as pd\n"
   ]
  },
  {
   "cell_type": "code",
   "execution_count": 7,
   "id": "641b7362-56a0-48a7-9c3c-ad76d957f38b",
   "metadata": {},
   "outputs": [],
   "source": [
    "df = pd.read_csv('C:\\\\Users\\\\shivani\\\\Desktop\\\\Book1.csv')\n"
   ]
  },
  {
   "cell_type": "code",
   "execution_count": 9,
   "id": "ad585c74-1e41-49d6-b4a7-3d4774f5dbe9",
   "metadata": {},
   "outputs": [
    {
     "name": "stdout",
     "output_type": "stream",
     "text": [
      "company               object\n",
      "fiscal year          float64\n",
      "total revenue         object\n",
      "net income            object\n",
      "total assests         object\n",
      "total liabilities     object\n",
      "cash flow             object\n",
      "dtype: object\n"
     ]
    }
   ],
   "source": [
    "print(df.dtypes)\n"
   ]
  },
  {
   "cell_type": "code",
   "execution_count": 10,
   "id": "6e108b08-7a55-4a23-b3bf-41196f8c7e63",
   "metadata": {},
   "outputs": [
    {
     "name": "stdout",
     "output_type": "stream",
     "text": [
      "     company  fiscal year total revenue net income total assests  \\\n",
      "0        NaN          NaN           NaN        NaN           NaN   \n",
      "1  microsoft       2024.0        245122      88136        512163   \n",
      "2      tesla       2024.0          NIL         NIL           NIL   \n",
      "3      apple       2024.0   3.94328E+11      93736        364980   \n",
      "4        NaN          NaN           NaN        NaN           NaN   \n",
      "\n",
      "  total liabilities cash flow  \n",
      "0               NaN       NaN  \n",
      "1            243686      3550  \n",
      "2               NIL       NIL  \n",
      "3            302083    118254  \n",
      "4               NaN       NaN  \n"
     ]
    }
   ],
   "source": [
    "print(df.head())\n"
   ]
  },
  {
   "cell_type": "code",
   "execution_count": 11,
   "id": "bb13feac-e26f-4540-b2ca-c03672b357e0",
   "metadata": {},
   "outputs": [],
   "source": [
    "df['total revenue'] = df['total revenue'].str.replace(',', '').str.strip()\n",
    "df['net income'] = df['net income'].str.replace(',', '').str.strip()\n"
   ]
  },
  {
   "cell_type": "code",
   "execution_count": 12,
   "id": "5e70e477-66c8-4755-8fb0-800aa08fa288",
   "metadata": {},
   "outputs": [],
   "source": [
    "df['total revenue'] = pd.to_numeric(df['total revenue'], errors='coerce')\n",
    "df['net income'] = pd.to_numeric(df['net income'], errors='coerce')\n"
   ]
  },
  {
   "cell_type": "code",
   "execution_count": 13,
   "id": "bcc44557-c494-4df7-bbfb-4bcf2a5c0ec2",
   "metadata": {},
   "outputs": [
    {
     "name": "stdout",
     "output_type": "stream",
     "text": [
      "company               object\n",
      "fiscal year          float64\n",
      "total revenue        float64\n",
      "net income           float64\n",
      "total assests         object\n",
      "total liabilities     object\n",
      "cash flow             object\n",
      "dtype: object\n"
     ]
    }
   ],
   "source": [
    "print(df.dtypes)\n"
   ]
  },
  {
   "cell_type": "code",
   "execution_count": 14,
   "id": "ac355bc7-15c6-4c84-93e2-823c6938e048",
   "metadata": {},
   "outputs": [
    {
     "name": "stdout",
     "output_type": "stream",
     "text": [
      "total revenue    4\n",
      "net income       4\n",
      "dtype: int64\n"
     ]
    }
   ],
   "source": [
    "print(df[['total revenue', 'net income']].isna().sum())\n"
   ]
  },
  {
   "cell_type": "code",
   "execution_count": 15,
   "id": "41272204-e38a-4615-bb00-43597aa0bbba",
   "metadata": {},
   "outputs": [],
   "source": [
    "df.dropna(subset=['total revenue', 'net income'], inplace=True)\n"
   ]
  },
  {
   "cell_type": "code",
   "execution_count": 16,
   "id": "3b607aa9-0406-4c82-af52-9813506b482c",
   "metadata": {},
   "outputs": [
    {
     "name": "stdout",
     "output_type": "stream",
     "text": [
      "company               object\n",
      "fiscal year          float64\n",
      "total revenue        float64\n",
      "net income           float64\n",
      "total assests         object\n",
      "total liabilities     object\n",
      "cash flow             object\n",
      "dtype: object\n"
     ]
    }
   ],
   "source": [
    "print(df.dtypes)\n"
   ]
  },
  {
   "cell_type": "code",
   "execution_count": 17,
   "id": "636aecad-2d07-45ea-b9db-defc6dcbb0af",
   "metadata": {},
   "outputs": [],
   "source": [
    "df['Revenue Growth (%)'] = df.groupby(['company'])['total revenue'].pct_change() * 100\n",
    "df['Net Income Growth (%)'] = df.groupby(['company'])['net income'].pct_change() * 100\n"
   ]
  },
  {
   "cell_type": "code",
   "execution_count": 18,
   "id": "a0433dca-6435-48cd-b086-9917c54fbb6a",
   "metadata": {},
   "outputs": [],
   "source": [
    "# Total revenue and net income by company\n",
    "company_totals = df.groupby('company')[['total revenue', 'net income']].sum()\n",
    "\n",
    "# Mean revenue and net income by company\n",
    "company_means = df.groupby('company')[['total revenue', 'net income']].mean()\n",
    "\n",
    "# Median revenue and net income by company\n",
    "company_medians = df.groupby('company')[['total revenue', 'net income']].median()\n"
   ]
  },
  {
   "cell_type": "code",
   "execution_count": 21,
   "id": "176a437b-73a5-4272-bfdd-73ca5f4d32bd",
   "metadata": {},
   "outputs": [],
   "source": [
    "# Sum of total revenue and net income by year\n",
    "yearly_totals = df.groupby('fiscal year')[['total revenue', 'net income']].sum()\n",
    "\n",
    "# Mean revenue and net income by year\n",
    "yearly_means = df.groupby('fiscal year')[['total revenue', 'net income']].mean()\n",
    "\n",
    "# Year-over-year percentage change in total revenue and net income\n",
    "df['Yearly Revenue Growth (%)'] = df.groupby('fiscal year')['total revenue'].pct_change() * 100\n",
    "df['Yearly Net Income Growth (%)'] = df.groupby('fiscal year')['net income'].pct_change() * 100\n"
   ]
  },
  {
   "cell_type": "code",
   "execution_count": 22,
   "id": "20581687-ee47-4016-8a02-8a299659a0c1",
   "metadata": {},
   "outputs": [],
   "source": [
    "# Multiple aggregate functions by company\n",
    "company_stats = df.groupby('company').agg({\n",
    "    'total revenue': ['sum', 'mean', 'median', 'std'],  # sum, mean, median, std\n",
    "    'net income': ['sum', 'mean', 'median', 'std']\n",
    "})\n"
   ]
  },
  {
   "cell_type": "code",
   "execution_count": 24,
   "id": "a4b2f16b-0a0b-4100-9d14-6507b966cd08",
   "metadata": {},
   "outputs": [],
   "source": [
    "# Sum of revenue and net income by company and year\n",
    "company_yearly_totals = df.groupby(['company', 'fiscal year'])[['total revenue', 'net income']].sum()\n",
    "\n",
    "# Mean revenue and net income by company and year\n",
    "company_yearly_means = df.groupby(['company', 'fiscal year'])[['total revenue', 'net income']].mean()\n"
   ]
  },
  {
   "cell_type": "code",
   "execution_count": 25,
   "id": "ddfb7dbc-17a7-4c1b-816a-c279878b7eb1",
   "metadata": {},
   "outputs": [],
   "source": [
    "# Top 5 companies by total revenue\n",
    "top_companies_revenue = company_totals.nlargest(5, 'total revenue')\n",
    "\n",
    "# Top 5 companies by net income\n",
    "top_companies_income = company_totals.nlargest(5, 'net income')\n"
   ]
  },
  {
   "cell_type": "code",
   "execution_count": 27,
   "id": "7b30a3db-d4da-49f1-8866-be3a2649c643",
   "metadata": {},
   "outputs": [],
   "source": [
    "# Pivot table for company-wise total revenue and net income\n",
    "pivot_table = df.pivot_table(values=['total revenue', 'net income'], index='company', aggfunc='sum')\n",
    "\n",
    "# Pivot table for yearly total revenue and net income\n",
    "yearly_pivot = df.pivot_table(values=['total revenue', 'net income'], index='fiscal year', aggfunc='sum')\n"
   ]
  },
  {
   "cell_type": "code",
   "execution_count": 37,
   "id": "99697307-9823-4756-bad2-595e441ee8f8",
   "metadata": {},
   "outputs": [
    {
     "name": "stdout",
     "output_type": "stream",
     "text": [
      "Requirement already satisfied: matplotlib in c:\\users\\shivani\\appdata\\local\\programs\\python\\python312\\lib\\site-packages (3.9.3)\n",
      "Requirement already satisfied: contourpy>=1.0.1 in c:\\users\\shivani\\appdata\\local\\programs\\python\\python312\\lib\\site-packages (from matplotlib) (1.3.1)\n",
      "Requirement already satisfied: cycler>=0.10 in c:\\users\\shivani\\appdata\\local\\programs\\python\\python312\\lib\\site-packages (from matplotlib) (0.12.1)\n",
      "Requirement already satisfied: fonttools>=4.22.0 in c:\\users\\shivani\\appdata\\local\\programs\\python\\python312\\lib\\site-packages (from matplotlib) (4.55.0)\n",
      "Requirement already satisfied: kiwisolver>=1.3.1 in c:\\users\\shivani\\appdata\\local\\programs\\python\\python312\\lib\\site-packages (from matplotlib) (1.4.7)\n",
      "Requirement already satisfied: numpy>=1.23 in c:\\users\\shivani\\appdata\\local\\programs\\python\\python312\\lib\\site-packages (from matplotlib) (2.1.3)\n",
      "Requirement already satisfied: packaging>=20.0 in c:\\users\\shivani\\appdata\\local\\programs\\python\\python312\\lib\\site-packages (from matplotlib) (24.2)\n",
      "Requirement already satisfied: pillow>=8 in c:\\users\\shivani\\appdata\\local\\programs\\python\\python312\\lib\\site-packages (from matplotlib) (11.0.0)\n",
      "Requirement already satisfied: pyparsing>=2.3.1 in c:\\users\\shivani\\appdata\\local\\programs\\python\\python312\\lib\\site-packages (from matplotlib) (3.2.0)\n",
      "Requirement already satisfied: python-dateutil>=2.7 in c:\\users\\shivani\\appdata\\local\\programs\\python\\python312\\lib\\site-packages (from matplotlib) (2.9.0.post0)\n",
      "Requirement already satisfied: six>=1.5 in c:\\users\\shivani\\appdata\\local\\programs\\python\\python312\\lib\\site-packages (from python-dateutil>=2.7->matplotlib) (1.16.0)\n"
     ]
    },
    {
     "data": {
      "image/png": "[encoded data removed]",
      "text/plain": [
       "<Figure size 640x480 with 1 Axes>"
      ]
     },
     "metadata": {},
     "output_type": "display_data"
    }
   ],
   "source": [
    "!pip install matplotlib\n",
    "\n",
    "import matplotlib.pyplot as plt\n",
    "\n",
    "# Plot total revenue by company\n",
    "company_totals['total revenue'].plot(kind='bar', title='Total Revenue by Company')\n",
    "plt.show()\n",
    "\n",
    "\n"
   ]
  },
  {
   "cell_type": "code",
   "execution_count": 36,
   "id": "e2d58583-bf0e-46e1-8c87-3cc19e7d3e07",
   "metadata": {},
   "outputs": [
    {
     "data": {
      "image/png": "[encoded data removed]",
      "text/plain": [
       "<Figure size 640x480 with 1 Axes>"
      ]
     },
     "metadata": {},
     "output_type": "display_data"
    }
   ],
   "source": [
    "yearly_totals['total revenue'].plot(kind='line', title='Total Revenue by Year')\n",
    "plt.show()"
   ]
  },
  {
   "cell_type": "code",
   "execution_count": 35,
   "id": "fdd992f3-d166-4f95-9394-57092b94677e",
   "metadata": {},
   "outputs": [
    {
     "data": {
      "text/html": [
       "<div>\n",
       "<style scoped>\n",
       "    .dataframe tbody tr th:only-of-type {\n",
       "        vertical-align: middle;\n",
       "    }\n",
       "\n",
       "    .dataframe tbody tr th {\n",
       "        vertical-align: top;\n",
       "    }\n",
       "\n",
       "    .dataframe thead th {\n",
       "        text-align: right;\n",
       "    }\n",
       "</style>\n",
       "<table border=\"1\" class=\"dataframe\">\n",
       "  <thead>\n",
       "    <tr style=\"text-align: right;\">\n",
       "      <th></th>\n",
       "      <th>total revenue</th>\n",
       "      <th>net income</th>\n",
       "    </tr>\n",
       "  </thead>\n",
       "  <tbody>\n",
       "    <tr>\n",
       "      <th>count</th>\n",
       "      <td>8.000000e+00</td>\n",
       "      <td>8.00000</td>\n",
       "    </tr>\n",
       "    <tr>\n",
       "      <th>mean</th>\n",
       "      <td>1.465736e+11</td>\n",
       "      <td>68916.25000</td>\n",
       "    </tr>\n",
       "    <tr>\n",
       "      <th>std</th>\n",
       "      <td>2.023160e+11</td>\n",
       "      <td>35530.76961</td>\n",
       "    </tr>\n",
       "    <tr>\n",
       "      <th>min</th>\n",
       "      <td>8.146200e+04</td>\n",
       "      <td>12587.00000</td>\n",
       "    </tr>\n",
       "    <tr>\n",
       "      <th>25%</th>\n",
       "      <td>1.728958e+05</td>\n",
       "      <td>58014.25000</td>\n",
       "    </tr>\n",
       "    <tr>\n",
       "      <th>50%</th>\n",
       "      <td>2.285185e+05</td>\n",
       "      <td>80437.00000</td>\n",
       "    </tr>\n",
       "    <tr>\n",
       "      <th>75%</th>\n",
       "      <td>3.865310e+11</td>\n",
       "      <td>94550.75000</td>\n",
       "    </tr>\n",
       "    <tr>\n",
       "      <th>max</th>\n",
       "      <td>3.943280e+11</td>\n",
       "      <td>99803.00000</td>\n",
       "    </tr>\n",
       "  </tbody>\n",
       "</table>\n",
       "</div>"
      ],
      "text/plain": [
       "       total revenue   net income\n",
       "count   8.000000e+00      8.00000\n",
       "mean    1.465736e+11  68916.25000\n",
       "std     2.023160e+11  35530.76961\n",
       "min     8.146200e+04  12587.00000\n",
       "25%     1.728958e+05  58014.25000\n",
       "50%     2.285185e+05  80437.00000\n",
       "75%     3.865310e+11  94550.75000\n",
       "max     3.943280e+11  99803.00000"
      ]
     },
     "execution_count": 35,
     "metadata": {},
     "output_type": "execute_result"
    }
   ],
   "source": [
    "# Summary statistics for revenue and net income\n",
    "df[['total revenue', 'net income']].describe()\n"
   ]
  },
  {
   "cell_type": "markdown",
   "id": "05368680-e174-48c4-9aff-e31eaeb5c4f9",
   "metadata": {},
   "source": [
    "yearly_totals['total revenue'].plot(kind='line', title='Total Revenue by Year')\n",
    "plt.show()"
   ]
  },
  {
   "cell_type": "markdown",
   "id": "7fa8dd67-78ce-4061-9114-c71c0d1183b6",
   "metadata": {},
   "source": [
    "!pip install matplotlib\n",
    "\n",
    "import matplotlib.pyplot as plt\n",
    "\n",
    "# Plot total revenue by company\n",
    "company_totals['total revenue'].plot(kind='bar', title='Total Revenue by Company')\n",
    "plt.show()\n",
    "\n",
    "\n"
   ]
  },
  {
   "cell_type": "code",
   "execution_count": null,
   "id": "96c9d618-e40a-4652-b6c7-368397cf24e0",
   "metadata": {},
   "outputs": [],
   "source": [
    "\ttotal revenue\tnet income\n",
    "count\t8.000000e+00\t8.00000\n",
    "mean\t1.465736e+11\t68916.25000\n",
    "std\t2.023160e+11\t35530.76961\n",
    "min\t8.146200e+04\t12587.00000\n",
    "25%\t1.728958e+05\t58014.25000\n",
    "50%\t2.285185e+05\t80437.00000\n",
    "75%\t3.865310e+11\t94550.75000\n",
    "max\t3.943280e+11\t99803.00000\n",
    "\n"
   ]
  },
  {
   "cell_type": "code",
   "execution_count": 43,
   "id": "54197344-ad1b-4dbc-b3ca-80bc1e8e2248",
   "metadata": {
    "scrolled": true
   },
   "outputs": [
    {
     "name": "stdout",
     "output_type": "stream",
     "text": [
      "      company  fiscal year  total revenue  net income total assests  \\\n",
      "0           0          0.0   0.000000e+00         0.0             0   \n",
      "1   microsoft       2024.0   2.451220e+05     88136.0        512163   \n",
      "2       tesla       2024.0   0.000000e+00         0.0           NIL   \n",
      "3       apple       2024.0   3.943280e+11     93736.0        364980   \n",
      "4           0          0.0   0.000000e+00         0.0             0   \n",
      "5   microsoft       2023.0   2.119150e+05     72361.0        411976   \n",
      "6       tesla       2023.0   9.677300e+04     14974.0          4087   \n",
      "7       apple       2023.0   3.839320e+11     96995.0        352583   \n",
      "8           0          0.0   0.000000e+00         0.0             0   \n",
      "9    microsft       2022.0   1.982700e+05     72738.0        364840   \n",
      "10      tesla       2022.0   8.146200e+04     12587.0          4828   \n",
      "11      apple       2022.0   3.943280e+11     99803.0        352755   \n",
      "\n",
      "   total liabilities cash flow  Revenue Growth (%)  Net Income Growth (%)  \n",
      "0                  0         0            0.000000               0.000000  \n",
      "1             243686      3550            0.000000               0.000000  \n",
      "2                NIL       NIL            0.000000               0.000000  \n",
      "3             302083    118254            0.000000               0.000000  \n",
      "4                  0         0            0.000000               0.000000  \n",
      "5             205753      2706          -13.547132             -17.898475  \n",
      "6              43009     13256                 inf                    inf  \n",
      "7             290437    110543           -2.636384               3.476786  \n",
      "8                  0         0            0.000000               0.000000  \n",
      "9             198298      2368            0.000000               0.000000  \n",
      "10             36440     14274          -15.821562             -15.940964  \n",
      "11            302083    122151            2.707771               2.894995  \n",
      "\n",
      "Year-over-Year Average Growth Rates (%):\n",
      "     company  Revenue Growth (%)  Net Income Growth (%)\n",
      "0          0            0.000000               0.000000\n",
      "1      apple            0.023796               2.123927\n",
      "2   microsft            0.000000               0.000000\n",
      "3  microsoft           -6.773566              -8.949238\n",
      "4      tesla                 inf                    inf\n"
     ]
    },
    {
     "name": "stderr",
     "output_type": "stream",
     "text": [
      "C:\\Users\\shivani\\AppData\\Local\\Temp\\ipykernel_21620\\434479398.py:12: FutureWarning: A value is trying to be set on a copy of a DataFrame or Series through chained assignment using an inplace method.\n",
      "The behavior will change in pandas 3.0. This inplace method will never work because the intermediate object on which we are setting values always behaves as a copy.\n",
      "\n",
      "For example, when doing 'df[col].method(value, inplace=True)', try using 'df.method({col: value}, inplace=True)' or df[col] = df[col].method(value) instead, to perform the operation inplace on the original object.\n",
      "\n",
      "\n",
      "  df['total revenue'].fillna(0, inplace=True)\n",
      "C:\\Users\\shivani\\AppData\\Local\\Temp\\ipykernel_21620\\434479398.py:13: FutureWarning: A value is trying to be set on a copy of a DataFrame or Series through chained assignment using an inplace method.\n",
      "The behavior will change in pandas 3.0. This inplace method will never work because the intermediate object on which we are setting values always behaves as a copy.\n",
      "\n",
      "For example, when doing 'df[col].method(value, inplace=True)', try using 'df.method({col: value}, inplace=True)' or df[col] = df[col].method(value) instead, to perform the operation inplace on the original object.\n",
      "\n",
      "\n",
      "  df['net income'].fillna(0, inplace=True)\n"
     ]
    }
   ],
   "source": [
    "import pandas as pd\n",
    "\n",
    "# Load the data from the CSV file\n",
    "file_path = 'C:\\\\Users\\\\shivani\\\\Desktop\\\\Book1.csv'\n",
    "df = pd.read_csv(file_path)\n",
    "\n",
    "# Convert 'total revenue' and 'net income' columns to numeric, if they are not already\n",
    "df['total revenue'] = pd.to_numeric(df['total revenue'], errors='coerce')\n",
    "df['net income'] = pd.to_numeric(df['net income'], errors='coerce')\n",
    "\n",
    "# Fill missing values (if any) in 'total revenue' and 'net income' columns\n",
    "df['total revenue'].fillna(0, inplace=True)\n",
    "df['net income'].fillna(0, inplace=True)\n",
    "\n",
    "# Calculate year-over-year growth rates for Total Revenue and Net Income\n",
    "df['Revenue Growth (%)'] = df.groupby('company')['total revenue'].pct_change() * 100\n",
    "df['Net Income Growth (%)'] = df.groupby('company')['net income'].pct_change() * 100\n",
    "\n",
    "# Fill any remaining NaN values that result from pct_change calculations with 0 or an appropriate value\n",
    "df.fillna(0, inplace=True)\n",
    "\n",
    "# Display the dataframe to verify the calculations\n",
    "print(df)\n",
    "\n",
    "# Optionally, you could summarize these findings for each company\n",
    "summary = df.groupby('company').agg({\n",
    "    'Revenue Growth (%)': 'mean',\n",
    "    'Net Income Growth (%)': 'mean'\n",
    "}).reset_index()\n",
    "\n",
    "print(\"\\nYear-over-Year Average Growth Rates (%):\")\n",
    "print(summary)\n"
   ]
  },
  {
   "cell_type": "code",
   "execution_count": null,
   "id": "c4f33f3d-f167-4ce2-9c2c-08c7256a2880",
   "metadata": {},
   "outputs": [],
   "source": []
  }
 ],
 "metadata": {
  "kernelspec": {
   "display_name": "Python 3 (ipykernel)",
   "language": "python",
   "name": "python3"
  },
  "language_info": {
   "codemirror_mode": {
    "name": "ipython",
    "version": 3
   },
   "file_extension": ".py",
   "mimetype": "text/x-python",
   "name": "python",
   "nbconvert_exporter": "python",
   "pygments_lexer": "ipython3",
   "version": "3.12.7"
  }
 },
 "nbformat": 4,
 "nbformat_minor": 5
}
